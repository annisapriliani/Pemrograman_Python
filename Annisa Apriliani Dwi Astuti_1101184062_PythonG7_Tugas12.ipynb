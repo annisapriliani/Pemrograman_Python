{
  "nbformat": 4,
  "nbformat_minor": 0,
  "metadata": {
    "colab": {
      "name": "Annisa Apriliani Dwi Astuti_1101184062_PythonG7.ipynb",
      "provenance": [],
      "authorship_tag": "ABX9TyObRRn0vPsXnDWIH0BofBVd",
      "include_colab_link": true
    },
    "kernelspec": {
      "name": "python3",
      "display_name": "Python 3"
    }
  },
  "cells": [
    {
      "cell_type": "markdown",
      "metadata": {
        "id": "view-in-github",
        "colab_type": "text"
      },
      "source": [
        "<a href=\"https://colab.research.google.com/github/annisapriliani/Pemrograman_Python/blob/main/Annisa%20Apriliani%20Dwi%20Astuti_1101184062_PythonG7_Tugas12.ipynb\" target=\"_parent\"><img src=\"https://colab.research.google.com/assets/colab-badge.svg\" alt=\"Open In Colab\"/></a>"
      ]
    },
    {
      "cell_type": "markdown",
      "metadata": {
        "id": "dAfuZXMkYoW2"
      },
      "source": [
        "Nama : Annisa Apriliani Dwi Astuti"
      ]
    },
    {
      "cell_type": "markdown",
      "metadata": {
        "id": "qr5iWEK6Yr9I"
      },
      "source": [
        "Kelas : Python G7"
      ]
    },
    {
      "cell_type": "markdown",
      "metadata": {
        "id": "avzTNHtQYwMk"
      },
      "source": [
        "Nim : 1101184062"
      ]
    },
    {
      "cell_type": "code",
      "metadata": {
        "id": "58ZScKjMYzbg"
      },
      "source": [
        "import numpy as np"
      ],
      "execution_count": 27,
      "outputs": []
    },
    {
      "cell_type": "code",
      "metadata": {
        "colab": {
          "base_uri": "https://localhost:8080/"
        },
        "id": "gLlDnyFFaM55",
        "outputId": "11e53e42-6a4a-4fdc-8968-e5c5b2a8fa46"
      },
      "source": [
        "fc=int(input(\"Masukkan nilai fc (300 - 2000 Mhz): \"))\r\n",
        "hT=int(input(\"Masukkan nilai hT (1-45 meter): \"))\r\n",
        "hR=int(input(\"Masukkan nilai hR (1-30 meter): \"))\r\n",
        "d=int(input(\"Masukkan nilai d (dalam km): \"))\r\n",
        "tipe_area=input(\"Masukkan tipe area('Urban', 'Suburban', 'Open'): \")"
      ],
      "execution_count": 28,
      "outputs": [
        {
          "output_type": "stream",
          "text": [
            "Masukkan nilai fc (300 - 2000 Mhz): 600000000\n",
            "Masukkan nilai hT (1-45 meter): 35\n",
            "Masukkan nilai hR (1-30 meter): 30\n",
            "Masukkan nilai d (dalam km): 20\n",
            "Masukkan tipe area('Urban', 'Suburban', 'Open'): Urban\n"
          ],
          "name": "stdout"
        }
      ]
    },
    {
      "cell_type": "code",
      "metadata": {
        "id": "Em2RQJWAbdaS"
      },
      "source": [
        "NtL = lambda x: 10*np.log10(x)"
      ],
      "execution_count": 29,
      "outputs": []
    },
    {
      "cell_type": "code",
      "metadata": {
        "colab": {
          "base_uri": "https://localhost:8080/"
        },
        "id": "EluQ7pP3bhyy",
        "outputId": "0bd36211-a4e7-4a8d-ff99-e30be5ec7b54"
      },
      "source": [
        "def syaratFC(fc):\r\n",
        "  if fc<1500000000 and fc>=400000000:\r\n",
        "    C1,C2 = 69.55, 26.16\r\n",
        "  if fc<=2000000000 and fc>= 1500000000:\r\n",
        "    C1,C2 = 46.3, 33.9\r\n",
        "  return C1,C2\r\n",
        "syaratFC(fc)"
      ],
      "execution_count": 30,
      "outputs": [
        {
          "output_type": "execute_result",
          "data": {
            "text/plain": [
              "(69.55, 26.16)"
            ]
          },
          "metadata": {
            "tags": []
          },
          "execution_count": 30
        }
      ]
    },
    {
      "cell_type": "code",
      "metadata": {
        "colab": {
          "base_uri": "https://localhost:8080/"
        },
        "id": "wJIF7z62buQN",
        "outputId": "e09e8089-f252-42e9-8b5f-ff2bb3eec920"
      },
      "source": [
        "def tipearea(tipe_area, fc):\r\n",
        "  if tipe_area == \"Urban\" :\r\n",
        "    Cm = 0\r\n",
        "  if tipe_area == \"Suburban\" :\r\n",
        "    Cm = -2*((np.log10(fc/28))**2) - 5.4\r\n",
        "  if tipe_area == \"Open\":\r\n",
        "    Cm = -4.78*((np.log10(fc))**2) + 18.33*np.log10(fc) - 40.94\r\n",
        "  return Cm\r\n",
        "tipearea(tipe_area, fc)"
      ],
      "execution_count": 31,
      "outputs": [
        {
          "output_type": "execute_result",
          "data": {
            "text/plain": [
              "0"
            ]
          },
          "metadata": {
            "tags": []
          },
          "execution_count": 31
        }
      ]
    },
    {
      "cell_type": "code",
      "metadata": {
        "id": "0c4lnn2GbzLL"
      },
      "source": [
        "def carinilaia (hR, fc):\r\n",
        "  a_hR = ((1.1*np.log10(fc))-0.7)*hR - ((1.56*np.log10(fc))-0.8)\r\n",
        "  return a_hR\r\n",
        "#carinilaia(hR, fc), tipearea(tipe_area, fc)"
      ],
      "execution_count": 32,
      "outputs": []
    },
    {
      "cell_type": "code",
      "metadata": {
        "id": "IxNw2vh7b3zb"
      },
      "source": [
        "def pathloss (fc,hT,d):\r\n",
        "  C1,C2 = syaratFC(fc)\r\n",
        "  Cm = tipearea(tipe_area, fc)\r\n",
        "  a_hR = carinilaia(hR, fc)\r\n",
        "  LP = C1 + C2*np.log10(fc) - 13.83*np.log10(hT) - a_hR + (44.9 - 6.55*np.log10(hT))*np.log(d) + Cm\r\n",
        "  return LP"
      ],
      "execution_count": 33,
      "outputs": []
    },
    {
      "cell_type": "code",
      "metadata": {
        "colab": {
          "base_uri": "https://localhost:8080/"
        },
        "id": "E8ik9fCXb_Sy",
        "outputId": "9ff9ed57-8f0f-4c62-a716-3d3f3e189aa0"
      },
      "source": [
        "#Ketika Path Loss di soal belum dalam dB\r\n",
        "LP = pathloss(fc,hT,d)\r\n",
        "LpdB = NtL(LP)\r\n",
        "print (\"Path Loss dalam dB = \", LpdB, \"dB\")\r\n",
        "print (\"Path Loss dalam Numerik = \", LP)\r\n",
        "\r\n",
        "\r\n",
        "#Ketika Path Loss di soal sudah dalam dB\r\n",
        "LP = pathloss(fc,hT,d)\r\n",
        "print(\"\\nPath Loss dalam dB = \", LP, \"dB\")"
      ],
      "execution_count": 34,
      "outputs": [
        {
          "output_type": "stream",
          "text": [
            "Path Loss dalam dB =  21.01257201618794 dB\n",
            "Path Loss dalam Numerik =  126.25750462888013\n",
            "\n",
            "Path Loss dalam dB =  126.25750462888013 dB\n"
          ],
          "name": "stdout"
        }
      ]
    }
  ]
}